{
 "cells": [
  {
   "cell_type": "markdown",
   "metadata": {},
   "source": [
    "# Deploy Jina Reader Professional with Google Cloud Marketplace Virtual machine\n",
    "\n",
    "This notebook demonstrates how to deploy a Jina Reader Professional app via [Google Cloud Marketplace Virtual machine](https://console.cloud.google.com/marketplace/product/jinaai-public/jina-reranker-v2-base-multilingual) and perform scraping and URL-to-markdown covnersion with the application within the virtual machine."
   ]
  },
  {
   "cell_type": "markdown",
   "metadata": {},
   "source": [
    "## Deploy the virtual machine\n",
    "\n",
    "To deploy the virtual machine, start by consulting the [official deployment guide](https://cloud.google.com/marketplace/docs/deploy-through-CLI#use-snippet). This document provides comprehensive steps for the deployment process.\n",
    "\n",
    "It's worth mentioning that in the Basics tab of the VM setup, you will need to provide several details about the VM. \n",
    "\n",
    "You can customize the VM size used, and for certain sizes, you might need to adjust the allowed quota to ensure access. A minimum deployment is shown in the following screenshot. You can adjust the hardware configuration according to your requirements.\n",
    "\n",
    "For the other tabs, you can leave most settings as default or adjust them to fit your needs."
   ]
  },
  {
   "cell_type": "markdown",
   "metadata": {},
   "source": [
    "<img src=\"images/deploy_jina_reader_professinal.png\" width=\"50%\" height=\"50%\" style=\"max-width: 600px\">"
   ]
  },
  {
   "cell_type": "markdown",
   "metadata": {},
   "source": [
    "Once the deployment of the VM is complete, proceed to the resource group created for your deployment to verify the resources that have been established. \n",
    "\n",
    "Within the resource group, you'll find the public IP through which you can access your application within the VM.\n",
    "\n",
    "Please note that the application within the VM will be unavailable immediately after deployment due to necessary model loading process **We recommend waiting at least 5 minutes before using the application.**"
   ]
  },
  {
   "cell_type": "markdown",
   "metadata": {},
   "source": [
    "# Perform inference with the application\n",
    "\n",
    "The Python example below demonstrates how to perform real-time inference using the public IP address of the deployed virtual machine. For more usage, please refer to https://jina.ai/api-dashboard/reader. Please note that this app does not require any authorization and do not store any data on the VM."
   ]
  },
  {
   "cell_type": "code",
   "execution_count": null,
   "metadata": {
    "vscode": {
     "languageId": "javascript"
    }
   },
   "outputs": [],
   "source": [
    "import fetch from 'node-fetch';\n",
    "\n",
    "const fetchData = async () => {\n",
    "  const url = 'https://<Insert here your public IP address>/https://example.com';\n",
    "  \n",
    "  const response = await fetch(url, {\n",
    "    headers: {\n",
    "      'Content-Type': `application/json`\n",
    "    }\n",
    "  });\n",
    "\n",
    "  const data = await response.json();\n",
    "  console.log(data);\n",
    "};\n",
    "\n",
    "fetchData();"
   ]
  }
 ],
 "metadata": {
  "kernelspec": {
   "display_name": ".venv",
   "language": "python",
   "name": "python3"
  },
  "language_info": {
   "codemirror_mode": {
    "name": "ipython",
    "version": 3
   },
   "file_extension": ".py",
   "mimetype": "text/x-python",
   "name": "python",
   "nbconvert_exporter": "python",
   "pygments_lexer": "ipython3",
   "version": "3.12.0"
  }
 },
 "nbformat": 4,
 "nbformat_minor": 2
}
