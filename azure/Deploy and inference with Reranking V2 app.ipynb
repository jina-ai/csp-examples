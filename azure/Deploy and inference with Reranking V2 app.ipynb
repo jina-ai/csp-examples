{
 "cells": [
  {
   "cell_type": "markdown",
   "metadata": {},
   "source": [
    "# Deploy and inference Jina Reranker V2 with Azure app\n",
    "\n",
    "This notebook demonstrates how to deploy a Jina Reranker V2 model-powered [Azure managed application](https://azuremarketplace.microsoft.com/en-us/marketplace/apps/jinaai.jina-reranker-v2-base-multilingual?tab=Overview) and perform inference with this application."
   ]
  },
  {
   "cell_type": "markdown",
   "metadata": {},
   "source": [
    "## Deploy the managed application\n",
    "\n",
    "To deploy your Azure managed application, start by consulting the [official deployment guide](https://learn.microsoft.com/en-us/azure/azure-resource-manager/managed-applications/deploy-marketplace-app-quickstart). This document provides comprehensive steps for the deployment process.\n",
    "\n",
    "It's worth mentioning that in the Basics tab of the deployment setup, you will need to provide several details about your deployment. "
   ]
  },
  {
   "cell_type": "markdown",
   "metadata": {},
   "source": [
    "<img src=\"images/deploy_reranking_v2_app.png\" width=\"50%\" height=\"50%\">"
   ]
  },
  {
   "cell_type": "markdown",
   "metadata": {},
   "source": [
    "Once the deployment of the managed application is complete, proceed to the resource group created for your deployment (for instance, `mrg-jina-reranker-v2-base-multilingual-preview-20240802152633` as referenced in the provided screenshot) to verify the resources that have been established. \n",
    "\n",
    "\n",
    "Within this resource group, look for the `jina-inference-vm`. Here, you'll find the DNS Name through which you can access your application. In this example, the application is accessible via `testv2offer.eastus.cloudapp.azure.com`."
   ]
  },
  {
   "cell_type": "markdown",
   "metadata": {},
   "source": [
    "# Perform inference with the managed application\n",
    "\n",
    "The Python example below demonstrates how to perform real-time inference using the DNS of the deployed Jina Reranker V2 model-powered managed application."
   ]
  },
  {
   "cell_type": "code",
   "execution_count": null,
   "metadata": {},
   "outputs": [],
   "source": [
    "import json\n",
    "\n",
    "import requests\n",
    "\n",
    "\n",
    "def invoke_endpoint():\n",
    "    url = \"http://<Insert here your DNS prefix>.<Insert here your region>.cloudapp.azure.com:8080/invocations\"  # With above example, it's \"http://testv2offer.eastus.cloudapp.azure.com:8080/invocations\"\n",
    "    headers = {\"Content-Type\": \"application/json\"}\n",
    "    json_data = {\n",
    "        \"data\": {\n",
    "            \"documents\": [\n",
    "                {\"text\": \"the dog is in my house\"},\n",
    "                {\"text\": \"he likes dog\"},\n",
    "                {\"text\": \"hello world\"},\n",
    "            ],\n",
    "            \"query\": \"where is the dog\",\n",
    "            \"top_n\": 2,\n",
    "        }\n",
    "    }\n",
    "\n",
    "    response = requests.post(url, headers=headers, data=json.dumps(json_data))\n",
    "    print(response.json())\n",
    "\n",
    "\n",
    "invoke_endpoint()"
   ]
  }
 ],
 "metadata": {
  "kernelspec": {
   "display_name": ".venv",
   "language": "python",
   "name": "python3"
  },
  "language_info": {
   "codemirror_mode": {
    "name": "ipython",
    "version": 3
   },
   "file_extension": ".py",
   "mimetype": "text/x-python",
   "name": "python",
   "nbconvert_exporter": "python",
   "pygments_lexer": "ipython3",
   "version": "3.12.0"
  }
 },
 "nbformat": 4,
 "nbformat_minor": 2
}
