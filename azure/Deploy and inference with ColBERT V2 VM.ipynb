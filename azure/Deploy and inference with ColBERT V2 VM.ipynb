{
 "cells": [
  {
   "cell_type": "markdown",
   "metadata": {},
   "source": [
    "# Deploy and inference Jina ColBERT V2 with Azure Virtual machine\n",
    "\n",
    "This notebook demonstrates how to deploy a Jina ColBERT V2 model-powered Azure Virtual machine ([128 dimensions](https://azuremarketplace.microsoft.com/en-us/marketplace/apps/jinaai.jina-colbert-v2-vm?tab=Overview) \\ [64 dimensions](https://azuremarketplace.microsoft.com/en-us/marketplace/apps/jinaai.jina-colbert-v2-64-vm?tab=Overview)) and perform inference with the application within the virtual machine."
   ]
  },
  {
   "cell_type": "markdown",
   "metadata": {},
   "source": [
    "## Deploy the managed application\n",
    "\n",
    "To deploy your Azure managed application, start by consulting the [official deployment guide](https://learn.microsoft.com/en-us/azure/azure-resource-manager/managed-applications/deploy-marketplace-app-quickstart). This document provides comprehensive steps for the deployment process.\n",
    "\n",
    "It's worth mentioning that in the Basics tab of the deployment setup, you will need to provide several details about your deployment. \n",
    "\n",
    "You can customize the VM used, and for certain types, you might need to adjust the allowed quota to ensure access. It is recommended to use the [Standard_NC4as_T4_v3](https://learn.microsoft.com/en-us/azure/virtual-machines/nct4-v3-series) VM. This VM features up to 1 NVIDIA T4 GPU with 16 GB of memory."
   ]
  },
  {
   "cell_type": "markdown",
   "metadata": {},
   "source": [
    "<img src=\"images/deploy_colbert_v2_vm.png\" width=\"50%\" height=\"50%\">"
   ]
  },
  {
   "cell_type": "markdown",
   "metadata": {},
   "source": [
    "Once the deployment of the VM is complete, proceed to the resource group created for your deployment to verify the resources that have been established. \n",
    "\n",
    "Within the resource group, you'll find the public IP through which you can access your application within the VM.\n",
    "\n",
    "Please note that the application within the VM will be unavailable immediately after deployment due to necessary model loading process **We recommend waiting at least 2 minutes before using the application.**"
   ]
  },
  {
   "cell_type": "markdown",
   "metadata": {},
   "source": [
    "# Perform inference with the application\n",
    "\n",
    "The Python example below demonstrates how to perform real-time inference (encode) using the public IP address of the deployed virtual machine."
   ]
  },
  {
   "cell_type": "code",
   "execution_count": null,
   "metadata": {},
   "outputs": [],
   "source": [
    "import json\n",
    "\n",
    "import requests\n",
    "\n",
    "\n",
    "def invoke_endpoint():\n",
    "    url = \"http://<Insert here your public IP address>/encode\"  # For example: http://20.84.48.180/encode\"\n",
    "    headers = {\"Content-Type\": \"application/json\"}\n",
    "\n",
    "    # The 'input_type' parameter must be either 'query' or 'document' (default).\n",
    "    # It specifies whether the input text is treated as a query or a document for encoding purposes.\n",
    "    json_data = {\"data\": [{\"text\": \"good morning\"}, {\"text\": \"hello world\"}], \"parameters\": {\"input_type\": \"document\"}}\n",
    "\n",
    "    response = requests.post(url, headers=headers, data=json.dumps(json_data))\n",
    "    print(response.json())\n",
    "\n",
    "\n",
    "invoke_endpoint()"
   ]
  },
  {
   "cell_type": "markdown",
   "metadata": {},
   "source": [
    "The Python example below demonstrates how to perform real-time inference (rerank) using the public IP address of the deployed virtual machine."
   ]
  },
  {
   "cell_type": "markdown",
   "metadata": {},
   "source": []
  },
  {
   "cell_type": "code",
   "execution_count": null,
   "metadata": {},
   "outputs": [],
   "source": [
    "import json\n",
    "\n",
    "import requests\n",
    "\n",
    "\n",
    "def invoke_endpoint():\n",
    "    url = \"http://<Insert here your public IP address>/rank\"  # For example: http://20.84.48.180/rank\n",
    "    headers = {\"Content-Type\": \"application/json\"}\n",
    "\n",
    "    json_data = {\n",
    "        \"data\": {\n",
    "            \"documents\": [\n",
    "                {\"text\": \"the dog is in my house\"},\n",
    "                {\"text\": \"he likes dog\"},\n",
    "                {\"text\": \"hello world\"},\n",
    "            ],\n",
    "            \"query\": \"where is the dog\",\n",
    "            \"top_n\": 2,\n",
    "        }\n",
    "    }\n",
    "\n",
    "    response = requests.post(url, headers=headers, data=json.dumps(json_data))\n",
    "    print(response.json())\n",
    "\n",
    "\n",
    "invoke_endpoint()"
   ]
  }
 ],
 "metadata": {
  "kernelspec": {
   "display_name": ".venv",
   "language": "python",
   "name": "python3"
  },
  "language_info": {
   "codemirror_mode": {
    "name": "ipython",
    "version": 3
   },
   "file_extension": ".py",
   "mimetype": "text/x-python",
   "name": "python",
   "nbconvert_exporter": "python",
   "pygments_lexer": "ipython3",
   "version": "3.12.0"
  }
 },
 "nbformat": 4,
 "nbformat_minor": 2
}
