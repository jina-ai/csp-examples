{
 "cells": [
  {
   "cell_type": "markdown",
   "metadata": {},
   "source": [
    "# Deploy and inference Jina ColBERT with Azure app\n",
    "\n",
    "This notebook demonstrates how to deploy a Jina ColBERT model-powered [Azure managed application](https://azuremarketplace.microsoft.com/en-us/marketplace/apps/jinaai.jina-colbert-v1-en?tab=Overview) and perform inference with it."
   ]
  },
  {
   "cell_type": "markdown",
   "metadata": {},
   "source": [
    "## Deploy the managed application\n",
    "\n",
    "To deploy your Azure managed application, start by consulting the [official deployment guide](https://learn.microsoft.com/en-us/azure/azure-resource-manager/managed-applications/deploy-marketplace-app-quickstart). This document provides comprehensive steps for the deployment process.\n",
    "\n",
    "It's worth mentioning that in the Basics tab of the deployment setup, you will need to provide several details about your deployment. By default, the configuration is set to use 4 CPU cores and 8 GB of memory. Depending on your specific requirements, you may adjust these settings to better suit your application's needs."
   ]
  },
  {
   "cell_type": "markdown",
   "metadata": {},
   "source": [
    "<img src=\"images/deploy_colbert_app.png\" width=\"50%\" height=\"50%\">"
   ]
  },
  {
   "cell_type": "markdown",
   "metadata": {},
   "source": [
    "Once the deployment of the managed application is complete, proceed to the resource group created for your deployment (for instance, `mrg-jina-colbert-v1-en-preview-20240412160114` as referenced in the provided screenshot) to verify the resources that have been established. Within this resource group, look for the `jina-inference-container-group`. Here, you'll find the Fully Qualified Domain Name (`FQDN`) through which you can access your application. In this example, the application is accessible via `customdns.eastus.azurecontainer.io`."
   ]
  },
  {
   "cell_type": "markdown",
   "metadata": {},
   "source": [
    "# Perform inference with the managed application\n",
    "\n",
    "The Python example below demonstrates how to perform real-time inference (encode) using the FQDN of the deployed Jina ColBERT model-powered managed application."
   ]
  },
  {
   "cell_type": "code",
   "execution_count": null,
   "metadata": {},
   "outputs": [],
   "source": [
    "import json\n",
    "\n",
    "import requests\n",
    "\n",
    "\n",
    "def invoke_endpoint():\n",
    "    url = \"http://<Insert here your DNS prefix>.<Insert here your region>.azurecontainer.io:8080/encode\"\n",
    "    headers = {\"Content-Type\": \"application/json\"}\n",
    "\n",
    "    # The 'input_type' parameter must be either 'query' or 'document' (default).\n",
    "    # It specifies whether the input text is treated as a query or a document for encoding purposes.\n",
    "    json_data = {\"data\": [{\"text\": \"good morning\"}, {\"text\": \"hello world\"}], \"parameters\": {\"input_type\": \"document\"}}\n",
    "\n",
    "    response = requests.post(url, headers=headers, data=json.dumps(json_data))\n",
    "    print(response.json())\n",
    "\n",
    "\n",
    "invoke_endpoint()"
   ]
  },
  {
   "cell_type": "markdown",
   "metadata": {},
   "source": [
    "The Python example below demonstrates how to perform real-time inference (rerank) using the FQDN of the deployed Jina ColBERT model-powered managed application."
   ]
  },
  {
   "cell_type": "code",
   "execution_count": null,
   "metadata": {},
   "outputs": [],
   "source": [
    "import json\n",
    "\n",
    "import requests\n",
    "\n",
    "\n",
    "def invoke_endpoint():\n",
    "    url = \"http://<Insert here your DNS prefix>.<Insert here your region>.azurecontainer.io:8080/rank\"\n",
    "    headers = {\"Content-Type\": \"application/json\"}\n",
    "\n",
    "    json_data = {\n",
    "        \"data\": {\n",
    "            \"documents\": [\n",
    "                {\"text\": \"the dog is in my house\"},\n",
    "                {\"text\": \"he likes dog\"},\n",
    "                {\"text\": \"hello world\"},\n",
    "            ],\n",
    "            \"query\": \"where is the dog\",\n",
    "            \"top_n\": 2,\n",
    "        }\n",
    "    }\n",
    "\n",
    "    response = requests.post(url, headers=headers, data=json.dumps(json_data))\n",
    "    print(response.json())\n",
    "\n",
    "\n",
    "invoke_endpoint()"
   ]
  }
 ],
 "metadata": {
  "kernelspec": {
   "display_name": ".venv",
   "language": "python",
   "name": "python3"
  },
  "language_info": {
   "codemirror_mode": {
    "name": "ipython",
    "version": 3
   },
   "file_extension": ".py",
   "mimetype": "text/x-python",
   "name": "python",
   "nbconvert_exporter": "python",
   "pygments_lexer": "ipython3",
   "version": "3.12.0"
  }
 },
 "nbformat": 4,
 "nbformat_minor": 2
}
